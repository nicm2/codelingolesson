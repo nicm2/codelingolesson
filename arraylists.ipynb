{
 "cells": [
  {
   "attachments": {},
   "cell_type": "markdown",
   "metadata": {},
   "source": [
    "# ArrayList\n",
    "- toc: false\n",
    "- badges: true\n",
    "- categories: [cb]\n",
    "- author: Codelingo"
   ]
  },
  {
   "attachments": {},
   "cell_type": "markdown",
   "metadata": {},
   "source": [
    "## What are ArrayLists?\n",
    "An ArrayList is a collection that stores objects. To create an ArrayList, declare a variable with a data type of ArrayList, and point it to a new ArrayList object. The initial size of an ArrayList is zero. The size of an ArrayList depends on the methods called.\n",
    "\n",
    "Creating an Arraylist:\n",
    "ArrayList<type> nameofarraylist= new ArrayList<type>();"
   ]
  },
  {
   "cell_type": "code",
   "execution_count": 1,
   "metadata": {
    "vscode": {
     "languageId": "java"
    }
   },
   "outputs": [],
   "source": [
    "ArrayList<Integer> list = new ArrayList<Integer>();"
   ]
  },
  {
   "attachments": {},
   "cell_type": "markdown",
   "metadata": {},
   "source": [
    "# Useful Arraylist Methods\n",
    "The following are commonly used methods for ArrayList:"
   ]
  },
  {
   "cell_type": "code",
   "execution_count": null,
   "metadata": {
    "vscode": {
     "languageId": "java"
    }
   },
   "outputs": [],
   "source": [
    "arrayList.add(element);\n",
    "arrayList.add(index, element);\n",
    "arrayList.set(index, element);\n",
    "arrayList.remove(index);\n",
    "arrayList.get(index);\n",
    "arrayList.size();"
   ]
  },
  {
   "attachments": {},
   "cell_type": "markdown",
   "metadata": {},
   "source": [
    "# Traversing through an Arraylist"
   ]
  },
  {
   "cell_type": "code",
   "execution_count": 1,
   "metadata": {
    "vscode": {
     "languageId": "java"
    }
   },
   "outputs": [
    {
     "name": "stdout",
     "output_type": "stream",
     "text": [
      "1\n",
      "2\n",
      "3\n",
      "4\n",
      "5\n"
     ]
    }
   ],
   "source": [
    "// Using an enhanced for loop\n",
    "ArrayList<Integer> list = new ArrayList<Integer>();\n",
    "list.add(1);\n",
    "list.add(2);\n",
    "list.add(3);\n",
    "list.add(4);\n",
    "list.add(5);\n",
    "for (Integer element: list) {\n",
    "    System.out.println(element);\n",
    "}"
   ]
  },
  {
   "cell_type": "code",
   "execution_count": 5,
   "metadata": {
    "vscode": {
     "languageId": "java"
    }
   },
   "outputs": [
    {
     "name": "stdout",
     "output_type": "stream",
     "text": [
      "1\n",
      "2\n",
      "3\n",
      "4\n",
      "5\n"
     ]
    }
   ],
   "source": [
    "// Using a for loop\n",
    "for (int i = 0; i < list.size(); i++) {\n",
    "    System.out.println(list.get(i));\n",
    "}"
   ]
  },
  {
   "attachments": {},
   "cell_type": "markdown",
   "metadata": {},
   "source": [
    "## Arraylist Hacks:\n",
    "Choose two of these options to do.\n",
    "- Test if two arraylists contain the same elements in reverse order\n",
    "- Overwrite all the elements in an arraylist with the alphabet\n",
    "- Remove every other element from an arraylist"
   ]
  },
  {
   "cell_type": "code",
   "execution_count": 3,
   "metadata": {
    "vscode": {
     "languageId": "java"
    }
   },
   "outputs": [
    {
     "name": "stdout",
     "output_type": "stream",
     "text": [
      "Are the lists equal in reverse order? true\n",
      "List with every other element removed: [2, 4, 6]\n"
     ]
    }
   ],
   "source": [
    "import java.util.ArrayList;\n",
    "import java.util.Collections;\n",
    "\n",
    "public class ArrayListTest {\n",
    "\n",
    "    public static void main(String[] args) {\n",
    "        // Test if two ArrayLists contain the same elements in reverse order\n",
    "        ArrayList<Integer> list1 = new ArrayList<>();\n",
    "        list1.add(1);\n",
    "        list1.add(2);\n",
    "        list1.add(3);\n",
    "        list1.add(4);\n",
    "\n",
    "        ArrayList<Integer> list2 = new ArrayList<>();\n",
    "        list2.add(4);\n",
    "        list2.add(3);\n",
    "        list2.add(2);\n",
    "        list2.add(1);\n",
    "\n",
    "        boolean isEqual = list1.equals(reverseList(list2));\n",
    "        System.out.println(\"Are the lists equal in reverse order? \" + isEqual);\n",
    "\n",
    "        // Remove every other element from an ArrayList\n",
    "        ArrayList<Integer> list3 = new ArrayList<>();\n",
    "        list3.add(1);\n",
    "        list3.add(2);\n",
    "        list3.add(3);\n",
    "        list3.add(4);\n",
    "        list3.add(5);\n",
    "        list3.add(6);\n",
    "\n",
    "        for (int i = list3.size() - 1; i >= 0; i--) {\n",
    "            if (i % 2 == 0) {\n",
    "                list3.remove(i);\n",
    "            }\n",
    "        }\n",
    "\n",
    "        System.out.println(\"List with every other element removed: \" + list3);\n",
    "    }\n",
    "\n",
    "    public static <T> ArrayList<T> reverseList(ArrayList<T> list) {\n",
    "        ArrayList<T> reversed = new ArrayList<>(list);\n",
    "        Collections.reverse(reversed);\n",
    "        return reversed;\n",
    "    }\n",
    "}\n",
    "ArrayListTest.main(null)"
   ]
  },
  {
   "attachments": {},
   "cell_type": "markdown",
   "metadata": {},
   "source": [
    "tests if two ArrayLists contain the same elements in reverse order and removes every other element from an ArrayList"
   ]
  }
 ],
 "metadata": {
  "kernelspec": {
   "display_name": "Java",
   "language": "java",
   "name": "java"
  },
  "language_info": {
   "codemirror_mode": "java",
   "file_extension": ".jshell",
   "mimetype": "text/x-java-source",
   "name": "Java",
   "pygments_lexer": "java",
   "version": "17.0.5+8-Ubuntu-2ubuntu120.04"
  },
  "orig_nbformat": 4
 },
 "nbformat": 4,
 "nbformat_minor": 2
}
