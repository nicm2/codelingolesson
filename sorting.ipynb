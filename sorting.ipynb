{
 "cells": [
  {
   "attachments": {},
   "cell_type": "markdown",
   "metadata": {},
   "source": [
    "# Sorting\n",
    "- toc: false\n",
    "- badges: true\n",
    "- categories: [cb]\n",
    "- author: Codelingo"
   ]
  },
  {
   "attachments": {},
   "cell_type": "markdown",
   "metadata": {},
   "source": [
    "## Insertion Sort\n",
    "A simple sorting algorithm that works similar to the way you sort playing cards in your hands. The array is virtually split into a sorted and an unsorted part. Values from the unsorted part are picked and placed at the correct position in the sorted part."
   ]
  },
  {
   "cell_type": "code",
   "execution_count": 13,
   "metadata": {
    "vscode": {
     "languageId": "java"
    }
   },
   "outputs": [
    {
     "name": "stdout",
     "output_type": "stream",
     "text": [
      "1 1 4 6 6 7 23 "
     ]
    }
   ],
   "source": [
    "public class InsertionSort {\n",
    "    public void sort(int arr[]) {\n",
    "        for (int i = 1; i < arr.length; ++i) {\n",
    "            int key = arr[i];\n",
    "            int j = i - 1;\n",
    "            while (j >= 0 && arr[j] > key) {\n",
    "                arr[j + 1] = arr[j];\n",
    "                j = j - 1;\n",
    "            }\n",
    "            arr[j + 1] = key;\n",
    "        }\n",
    "    }\n",
    "    public static void main() {\n",
    "        InsertionSort ob = new InsertionSort();\n",
    "        int arr[] = {1,7,23,6,4,6,1};\n",
    "        ob.sort(arr);\n",
    "        for (int i = 0; i < arr.length; i++) {\n",
    "            System.out.print(arr[i] + \" \");\n",
    "        }\n",
    "    }\n",
    "}\n",
    "InsertionSort.main();"
   ]
  },
  {
   "attachments": {},
   "cell_type": "markdown",
   "metadata": {},
   "source": [
    "## Selection Sort\n",
    "The algorithm repeatedly selects the min (or max) element from the unsorted part of the list and swaps it with the first element of the unsorted part until the entire list is sorted. The algorithm maintains two subarrays in a given array: the subarray which already sorted and the remaining subarray was unsorted. In every iteration of the selection sort, the min element is picked and moved to the beginning of the sorted subarray. After every iteration sorted subarray size increase by one and the unsorted subarray size decrease by one."
   ]
  },
  {
   "cell_type": "code",
   "execution_count": 12,
   "metadata": {
    "vscode": {
     "languageId": "java"
    }
   },
   "outputs": [
    {
     "name": "stdout",
     "output_type": "stream",
     "text": [
      "1 1 4 6 6 7 23 "
     ]
    }
   ],
   "source": [
    "public class SelectionSort {\n",
    "    public void sort(int arr[]) {\n",
    "        for (int i = 0; i < arr.length-1; i++) {\n",
    "            int min_idx = i;\n",
    "            for (int j = i+1; j < arr.length; j++) {\n",
    "                if (arr[j] < arr[min_idx])\n",
    "                    min_idx = j;\n",
    "            }\n",
    "            int temp = arr[min_idx];\n",
    "            arr[min_idx] = arr[i];\n",
    "            arr[i] = temp;\n",
    "        }\n",
    "    }\n",
    "    public static void main() {\n",
    "        SelectionSort ob = new SelectionSort();\n",
    "        int arr[] = {1,7,23,6,4,6,1};\n",
    "        ob.sort(arr);\n",
    "        for (int i = 0; i < arr.length; i++) {\n",
    "            System.out.print(arr[i] + \" \");\n",
    "        }\n",
    "    }\n",
    "}\n",
    "InsertionSort.main();"
   ]
  },
  {
   "attachments": {},
   "cell_type": "markdown",
   "metadata": {},
   "source": [
    "## Heap Sort\n",
    "Heap Sort is a comparison-based sorting technique based on Binary Heap data structure. It is similar to the selection sort where we first find the minimum element and place the minimum element at the beginning. Repeat the same process for the remaining elements. This algorithm uses the function heapSort() to construct the max heap initially for use. Once done, every root element is extracted and sent to the end of the array. The root is again extracted and sent to the end of the array, repeating again. The sort also uses the function heapify() to determine the maximum from the element being examined as the root and its two children. If the maximum is among the children of the root, the root and its child are swapped. When the maximum element in the array is found the function stops.\n"
   ]
  },
  {
   "attachments": {},
   "cell_type": "markdown",
   "metadata": {},
   "source": [
    "## Sorting Hack: \n",
    "Write a insertion or selection sort program that sorts an ArrayList<Country> in decreasing order so that the largest country is at the beginning of the array (Create your own Country class with size). Use a Comparator.\n",
    "### Bonus Hack:\n",
    "Use heap sort to do the above"
   ]
  },
  {
   "cell_type": "code",
   "execution_count": 13,
   "metadata": {
    "vscode": {
     "languageId": "java"
    }
   },
   "outputs": [
    {
     "name": "stdout",
     "output_type": "stream",
     "text": [
      "Unsorted list: \n",
      "USA - 9834\n",
      "Russia - 17125\n",
      "China - 9596\n",
      "India - 3287\n",
      "Brazil - 8516\n",
      "\n",
      "Sorted list: \n",
      "Russia - 17125\n",
      "USA - 9834\n",
      "China - 9596\n",
      "Brazil - 8516\n",
      "India - 3287\n"
     ]
    }
   ],
   "source": [
    "import java.util.ArrayList;\n",
    "import java.util.Comparator;\n",
    "\n",
    "public class Country {\n",
    "    private String name;\n",
    "    private int size;\n",
    "\n",
    "    public Country(String name, int size) {\n",
    "        this.name = name;\n",
    "        this.size = size;\n",
    "    }\n",
    "\n",
    "    public String getName() {\n",
    "        return name;\n",
    "    }\n",
    "\n",
    "    public int getSize() {\n",
    "        return size;\n",
    "    }\n",
    "}\n",
    "\n",
    "public class HeapSort {\n",
    "\n",
    "    public static void main(String[] args) {\n",
    "        ArrayList<Country> countries = new ArrayList<>();\n",
    "        countries.add(new Country(\"USA\", 9834));\n",
    "        countries.add(new Country(\"Russia\", 17125));\n",
    "        countries.add(new Country(\"China\", 9596));\n",
    "        countries.add(new Country(\"India\", 3287));\n",
    "        countries.add(new Country(\"Brazil\", 8516));\n",
    "\n",
    "        System.out.println(\"Unsorted list: \");\n",
    "        for (Country c : countries) {\n",
    "            System.out.println(c.getName() + \" - \" + c.getSize());\n",
    "        }\n",
    "\n",
    "        heapSort(countries, new Comparator<Country>() {\n",
    "            @Override\n",
    "            public int compare(Country o1, Country o2) {\n",
    "                return o2.getSize() - o1.getSize();\n",
    "            }\n",
    "        });\n",
    "\n",
    "        System.out.println(\"\\nSorted list: \");\n",
    "        for (Country c : countries) {\n",
    "            System.out.println(c.getName() + \" - \" + c.getSize());\n",
    "        }\n",
    "    }\n",
    "\n",
    "    public static <T> void heapSort(ArrayList<T> list, Comparator<T> comparator) {\n",
    "        int size = list.size();\n",
    "\n",
    "        // Build max heap\n",
    "        for (int i = size / 2 - 1; i >= 0; i--) {\n",
    "            heapify(list, size, i, comparator);\n",
    "        }\n",
    "\n",
    "        // Extract elements from heap one by one\n",
    "        for (int i = size - 1; i >= 0; i--) {\n",
    "            T temp = list.get(0);\n",
    "            list.set(0, list.get(i));\n",
    "            list.set(i, temp);\n",
    "\n",
    "            heapify(list, i, 0, comparator);\n",
    "        }\n",
    "    }\n",
    "\n",
    "    private static <T> void heapify(ArrayList<T> list, int size, int root, Comparator<T> comparator) {\n",
    "        int largest = root; // Initialize largest as root\n",
    "        int left = 2 * root + 1;\n",
    "        int right = 2 * root + 2;\n",
    "\n",
    "        // If left child is larger than root\n",
    "        if (left < size && comparator.compare(list.get(left), list.get(largest)) > 0) {\n",
    "            largest = left;\n",
    "        }\n",
    "\n",
    "        // If right child is larger than largest so far\n",
    "        if (right < size && comparator.compare(list.get(right), list.get(largest)) > 0) {\n",
    "            largest = right;\n",
    "        }\n",
    "\n",
    "        // If largest is not root\n",
    "        if (largest != root) {\n",
    "            T temp = list.get(root);\n",
    "            list.set(root, list.get(largest));\n",
    "            list.set(largest, temp);\n",
    "\n",
    "            // Recursively heapify the affected sub-tree\n",
    "            heapify(list, size, largest, comparator);\n",
    "        }\n",
    "    }\n",
    "}\n",
    "HeapSort.main(null)"
   ]
  }
 ],
 "metadata": {
  "kernelspec": {
   "display_name": "Java",
   "language": "java",
   "name": "java"
  },
  "language_info": {
   "codemirror_mode": "java",
   "file_extension": ".jshell",
   "mimetype": "text/x-java-source",
   "name": "Java",
   "pygments_lexer": "java",
   "version": "17.0.5+8-Ubuntu-2ubuntu120.04"
  },
  "orig_nbformat": 4
 },
 "nbformat": 4,
 "nbformat_minor": 2
}
